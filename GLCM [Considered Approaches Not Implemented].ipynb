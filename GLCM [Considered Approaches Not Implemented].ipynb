{
 "cells": [
  {
   "cell_type": "markdown",
   "id": "8586842f",
   "metadata": {},
   "source": [
    "GLCM"
   ]
  },
  {
   "cell_type": "code",
   "execution_count": 1,
   "id": "99ab24c2",
   "metadata": {},
   "outputs": [],
   "source": [
    "import os\n",
    "import numpy as np\n",
    "import pandas as pd\n",
    "from skimage import io, color\n",
    "from skimage.feature import graycomatrix, graycoprops"
   ]
  },
  {
   "cell_type": "code",
   "execution_count": 2,
   "id": "d380c3a8",
   "metadata": {},
   "outputs": [
    {
     "name": "stderr",
     "output_type": "stream",
     "text": [
      "<>:1: SyntaxWarning: invalid escape sequence '\\D'\n",
      "<>:2: SyntaxWarning: invalid escape sequence '\\D'\n",
      "<>:1: SyntaxWarning: invalid escape sequence '\\D'\n",
      "<>:2: SyntaxWarning: invalid escape sequence '\\D'\n",
      "C:\\Users\\giovi\\AppData\\Local\\Temp\\ipykernel_26936\\50755383.py:1: SyntaxWarning: invalid escape sequence '\\D'\n",
      "  image_folder =\"D:\\Desktop\\Project\\Isolated_Giuste\\Segmentations\"\n",
      "C:\\Users\\giovi\\AppData\\Local\\Temp\\ipykernel_26936\\50755383.py:2: SyntaxWarning: invalid escape sequence '\\D'\n",
      "  output_csv = \"D:\\Desktop\\Project\\glcm_features.csv\"\n"
     ]
    }
   ],
   "source": [
    "image_folder =\"D:\\Desktop\\Project\\Isolated_Giuste\\Segmentations\"\n",
    "output_csv = \"D:\\Desktop\\Project\\glcm_features.csv\""
   ]
  },
  {
   "cell_type": "code",
   "execution_count": 3,
   "id": "f88d7849",
   "metadata": {},
   "outputs": [
    {
     "name": "stdout",
     "output_type": "stream",
     "text": [
      "✅ Estensioni '.png' aggiunte ai file senza estensione.\n"
     ]
    }
   ],
   "source": [
    "folder = r\"D:\\Desktop\\Project\\Isolated\"\n",
    "\n",
    "for filename in os.listdir(folder):\n",
    "    if '.' not in filename:\n",
    "        old_path = os.path.join(folder, filename)\n",
    "        new_path = os.path.join(folder, filename + '.png')\n",
    "        os.rename(old_path, new_path)\n",
    "\n",
    "print(\"✅ Estensioni '.png' aggiunte ai file senza estensione.\")\n"
   ]
  },
  {
   "cell_type": "code",
   "execution_count": 4,
   "id": "3cbcc88a",
   "metadata": {},
   "outputs": [],
   "source": [
    "distances = [1]\n",
    "angles = [0, np.pi/4, np.pi/2, 3*np.pi/4]\n",
    "levels = 256  \n",
    "properties = ['contrast', 'dissimilarity', 'homogeneity', 'energy', 'correlation']"
   ]
  },
  {
   "cell_type": "code",
   "execution_count": 5,
   "id": "05933b35",
   "metadata": {},
   "outputs": [],
   "source": [
    "def extract_glcm_features(image):\n",
    "    if len(image.shape) == 3:  # RGB -> Grayscale\n",
    "        image = color.rgb2gray(image)\n",
    "        image = (image * 255).astype(np.uint8)\n",
    "    elif image.dtype != np.uint8:\n",
    "        image = (image / np.max(image) * 255).astype(np.uint8)\n",
    "\n",
    "    glcm = graycomatrix(image, \n",
    "                        distances=distances, \n",
    "                        angles=angles, \n",
    "                        levels=levels, \n",
    "                        symmetric=True, \n",
    "                        normed=True)\n",
    "    \n",
    "    features = {}\n",
    "    for prop in properties:\n",
    "        vals = graycoprops(glcm, prop)\n",
    "        features[prop + '_mean'] = np.mean(vals)\n",
    "        features[prop + '_std'] = np.std(vals)\n",
    "    return features\n"
   ]
  },
  {
   "cell_type": "code",
   "execution_count": 6,
   "id": "a1d0f913",
   "metadata": {},
   "outputs": [],
   "source": [
    "results = []\n",
    "for filename in os.listdir(image_folder):\n",
    "    if filename.lower().endswith(('.jpg', '.jpeg', '.png')):\n",
    "        filepath = os.path.join(image_folder, filename)\n",
    "        image = io.imread(filepath)\n",
    "        features = extract_glcm_features(image)\n",
    "        features['filename'] = filename\n",
    "        results.append(features)"
   ]
  },
  {
   "cell_type": "code",
   "execution_count": 7,
   "id": "46fd97a0",
   "metadata": {},
   "outputs": [
    {
     "name": "stdout",
     "output_type": "stream",
     "text": [
      "[✓] Features salvate in: D:\\Desktop\\Project\\glcm_features.csv\n"
     ]
    }
   ],
   "source": [
    "df = pd.DataFrame(results)\n",
    "df.to_csv(output_csv, index=False)\n",
    "print(f\"[✓] Features salvate in: {output_csv}\")"
   ]
  }
 ],
 "metadata": {
  "kernelspec": {
   "display_name": "base",
   "language": "python",
   "name": "python3"
  },
  "language_info": {
   "codemirror_mode": {
    "name": "ipython",
    "version": 3
   },
   "file_extension": ".py",
   "mimetype": "text/x-python",
   "name": "python",
   "nbconvert_exporter": "python",
   "pygments_lexer": "ipython3",
   "version": "3.12.7"
  }
 },
 "nbformat": 4,
 "nbformat_minor": 5
}
